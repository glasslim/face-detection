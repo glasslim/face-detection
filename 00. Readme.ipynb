{
 "cells": [
  {
   "cell_type": "markdown",
   "id": "550e2c04",
   "metadata": {},
   "source": [
    "# 사전 설치 & 준비\n",
    "Anaconda & jupyter 설치"
   ]
  },
  {
   "cell_type": "markdown",
   "id": "2e3a7855",
   "metadata": {},
   "source": [
    "https://www.anaconda.com/products/distribution#Downloads\n",
    "\n",
    "> 보통 64-bit겠지만 멋진 목상고는 전산실에 32-bit를 깔아뒀다 감사하며 32비트로 다운받자"
   ]
  },
  {
   "cell_type": "markdown",
   "id": "bebe66a0",
   "metadata": {},
   "source": [
    "-"
   ]
  },
  {
   "cell_type": "markdown",
   "id": "822d81b4",
   "metadata": {},
   "source": [
    "Win검색 => Jupyter Notebook 실행\n",
    "\n",
    "실행시 뜨는 cmd창은 끄지 않도록 하자\n",
    "\n",
    "크롬에 jupyter창이 떴을것"
   ]
  },
  {
   "cell_type": "markdown",
   "id": "9c8a1003",
   "metadata": {},
   "source": [
    "-"
   ]
  },
  {
   "cell_type": "markdown",
   "id": "2d31c86e",
   "metadata": {},
   "source": [
    "오른쪽 위 new - folder\n",
    "\n",
    "새 폴더를 만들고 폴더 옆 체크박스 클릭\n",
    "\n",
    "Python WorkSpace로 폴더 이름을 바꿔주자 알아보기 쉽도록"
   ]
  },
  {
   "cell_type": "markdown",
   "id": "2cae8454",
   "metadata": {},
   "source": [
    "부장님이 깔라고 시킨 파일을 이곳에 풀어주도록 하자\n",
    ">Link : "
   ]
  },
  {
   "cell_type": "markdown",
   "id": "ff6cf6e7",
   "metadata": {},
   "source": [
    "# Hello World"
   ]
  },
  {
   "cell_type": "code",
   "execution_count": 3,
   "id": "4c94411b",
   "metadata": {},
   "outputs": [
    {
     "name": "stdout",
     "output_type": "stream",
     "text": [
      "Hello World\n"
     ]
    }
   ],
   "source": [
    "print(\"Hello World\")"
   ]
  }
 ],
 "metadata": {
  "kernelspec": {
   "display_name": "Python 3 (ipykernel)",
   "language": "python",
   "name": "python3"
  },
  "language_info": {
   "codemirror_mode": {
    "name": "ipython",
    "version": 3
   },
   "file_extension": ".py",
   "mimetype": "text/x-python",
   "name": "python",
   "nbconvert_exporter": "python",
   "pygments_lexer": "ipython3",
   "version": "3.9.12"
  }
 },
 "nbformat": 4,
 "nbformat_minor": 5
}
